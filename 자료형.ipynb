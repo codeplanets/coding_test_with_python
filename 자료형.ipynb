{
  "nbformat": 4,
  "nbformat_minor": 0,
  "metadata": {
    "colab": {
      "provenance": []
    },
    "kernelspec": {
      "name": "python3",
      "display_name": "Python 3"
    },
    "language_info": {
      "name": "python"
    }
  },
  "cells": [
    {
      "cell_type": "markdown",
      "source": [
        "# 리스트 컴프리헨션 연습하기"
      ],
      "metadata": {
        "id": "6tLmZFDd9ig6"
      }
    },
    {
      "cell_type": "code",
      "execution_count": 1,
      "metadata": {
        "colab": {
          "base_uri": "https://localhost:8080/"
        },
        "id": "dnv9TK_z9hee",
        "outputId": "dd95168a-7350-4d1e-f061-7490fbbf837a"
      },
      "outputs": [
        {
          "output_type": "stream",
          "name": "stdout",
          "text": [
            "[[0, 0, 0], [0, 0, 0], [0, 0, 0], [0, 0, 0]]\n"
          ]
        }
      ],
      "source": [
        "n = 4\n",
        "m = 3\n",
        "arr = [[0] * m for _ in range(n)]\n",
        "print(arr)"
      ]
    },
    {
      "cell_type": "code",
      "source": [
        "arr2 = [[0] * m for num in range(n)]\n",
        "print(arr2)"
      ],
      "metadata": {
        "colab": {
          "base_uri": "https://localhost:8080/"
        },
        "id": "z-vBKkWp96Rc",
        "outputId": "7f312ba3-3967-4ded-bb21-55c6aa5f3a86"
      },
      "execution_count": 2,
      "outputs": [
        {
          "output_type": "stream",
          "name": "stdout",
          "text": [
            "[[0, 0, 0], [0, 0, 0], [0, 0, 0], [0, 0, 0]]\n"
          ]
        }
      ]
    },
    {
      "cell_type": "markdown",
      "source": [
        "# 리스트 관련 기타 메서드\n",
        "\n",
        "append()\n",
        " - O(1)\n",
        "sort()\n",
        " - O(NlogN)\n",
        "reverse()\n",
        " - O(N)\n",
        "insert()\n",
        " - O(N)\n",
        "count()\n",
        " - O(N)\n",
        "remove()\n",
        " - O(N)\n"
      ],
      "metadata": {
        "id": "cz77yRhu-TIG"
      }
    },
    {
      "cell_type": "markdown",
      "source": [
        "# 튜플 사용 방안\n",
        " - 서로 다른 성질의 데이터 묶음\n",
        "  - 최단 경로 알고리즘(비용, 노드 번호) 형태로 자주 사용\n",
        " - 데이터의 나열을 해싱(Hashing)의 키 값으로 사용\n",
        " - 리스트보다 메모리를 효율적으로 사용"
      ],
      "metadata": {
        "id": "pRpEBBuyAOR-"
      }
    },
    {
      "cell_type": "markdown",
      "source": [
        "# Dictionary"
      ],
      "metadata": {
        "id": "-fQvwUOoA5Vr"
      }
    },
    {
      "cell_type": "code",
      "source": [
        "data = dict()\n",
        "data['사과'] = 'apple'\n",
        "print(data)"
      ],
      "metadata": {
        "colab": {
          "base_uri": "https://localhost:8080/"
        },
        "id": "X0SzpwvOAtZ0",
        "outputId": "d9b447fc-6658-4009-b8ae-3bfac187ba36"
      },
      "execution_count": 5,
      "outputs": [
        {
          "output_type": "stream",
          "name": "stdout",
          "text": [
            "{'사과': 'apple'}\n"
          ]
        }
      ]
    },
    {
      "cell_type": "code",
      "source": [
        "data['물'] = 'water'"
      ],
      "metadata": {
        "id": "-QWwsdt3Bzzq"
      },
      "execution_count": 7,
      "outputs": []
    },
    {
      "cell_type": "code",
      "source": [
        "data2 = {\n",
        "    '바나나' : 'banana'\n",
        "}\n",
        "print(data2)"
      ],
      "metadata": {
        "colab": {
          "base_uri": "https://localhost:8080/"
        },
        "id": "YnwmQTt3Bf0w",
        "outputId": "2e8291b8-06b4-4c0c-d478-9cc919e2c0fb"
      },
      "execution_count": 6,
      "outputs": [
        {
          "output_type": "stream",
          "name": "stdout",
          "text": [
            "{'바나나': 'banana'}\n"
          ]
        }
      ]
    },
    {
      "cell_type": "code",
      "source": [
        "keys = data.keys()\n",
        "print(keys)\n",
        "values = list(data.values())\n",
        "print(values)"
      ],
      "metadata": {
        "colab": {
          "base_uri": "https://localhost:8080/"
        },
        "id": "cMABiMCwBqdK",
        "outputId": "bffe23b1-134c-421f-c898-5c5e4fd20c0f"
      },
      "execution_count": 12,
      "outputs": [
        {
          "output_type": "stream",
          "name": "stdout",
          "text": [
            "dict_keys(['사과', '물'])\n",
            "['apple', 'water']\n"
          ]
        }
      ]
    },
    {
      "cell_type": "markdown",
      "source": [
        "# 집합"
      ],
      "metadata": {
        "id": "KBedEkbKCXWq"
      }
    },
    {
      "cell_type": "code",
      "source": [
        "dataset = set([1, 2, 3])\n",
        "print(dataset)"
      ],
      "metadata": {
        "colab": {
          "base_uri": "https://localhost:8080/"
        },
        "id": "3noUgaUiCZiR",
        "outputId": "38473d12-33d5-474d-feb5-1a44ce932412"
      },
      "execution_count": 13,
      "outputs": [
        {
          "output_type": "stream",
          "name": "stdout",
          "text": [
            "{1, 2, 3}\n"
          ]
        }
      ]
    }
  ]
}