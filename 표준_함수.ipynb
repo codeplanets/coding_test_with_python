{
  "nbformat": 4,
  "nbformat_minor": 0,
  "metadata": {
    "colab": {
      "provenance": []
    },
    "kernelspec": {
      "name": "python3",
      "display_name": "Python 3"
    },
    "language_info": {
      "name": "python"
    }
  },
  "cells": [
    {
      "cell_type": "markdown",
      "source": [
        "# 내장 함수\n",
        "- sum()\n",
        "- min()\n",
        "- max()\n",
        "- eval()\n",
        "- sorted(, key=, reverse=)\n"
      ],
      "metadata": {
        "id": "vWBsEbTZLX2P"
      }
    },
    {
      "cell_type": "code",
      "execution_count": 4,
      "metadata": {
        "colab": {
          "base_uri": "https://localhost:8080/"
        },
        "id": "36dNnLhmD2CY",
        "outputId": "a7b1ff73-7a9a-4bfd-b6a3-6bf7f38c67f7"
      },
      "outputs": [
        {
          "output_type": "stream",
          "name": "stdout",
          "text": [
            "\n"
          ]
        }
      ],
      "source": [
        "import sys\n",
        "a = sys.stdin.readline().rstrip()\n",
        "print(a)"
      ]
    },
    {
      "cell_type": "markdown",
      "source": [
        "# 표준 라이브러리\n",
        "- itertools : 파이썬에서 반복되는 형태의 데이터를 처리하기 위한 유용한 기능들을 제공\n",
        " - 특히 순열과 조합 라이브러리는 코딩 테스트에서 자주 사용\n",
        "- heapq : 힙(heap) 자료구조를 제공\n",
        " - 일반적으로 우선순위 큐 기능을 구현하기 위해서 사용\n",
        "- bisect : 이진 탐색(Binary Search) 기능을 제공\n",
        "- collections : 덱(deque), 카운터(Counter)등의 유용한 자료구조를 포함\n",
        "- math : 필수적인 수학적 기능을 제공\n",
        " - 팩토리얼, 제곱근, 최대공약수(GCD), 삼각함수 관련 함수부터 파이(pi)와 같은 상수를 포함"
      ],
      "metadata": {
        "id": "vD-FP0TYKmdd"
      }
    },
    {
      "cell_type": "code",
      "source": [
        "# itertools - 순열\n",
        "\n",
        "from itertools import product\n",
        "data = ['A', 'B', 'C']\n",
        "\n",
        "result = list(product(data, repeat=2))\n",
        "print(result)"
      ],
      "metadata": {
        "colab": {
          "base_uri": "https://localhost:8080/"
        },
        "id": "xsw0tFGgMHL7",
        "outputId": "8e86586e-e252-43ba-9640-ebd2aba0c5a9"
      },
      "execution_count": 5,
      "outputs": [
        {
          "output_type": "stream",
          "name": "stdout",
          "text": [
            "[('A', 'A'), ('A', 'B'), ('A', 'C'), ('B', 'A'), ('B', 'B'), ('B', 'C'), ('C', 'A'), ('C', 'B'), ('C', 'C')]\n"
          ]
        }
      ]
    },
    {
      "cell_type": "code",
      "source": [
        "# itertools - 조합\n",
        "from itertools import combinations_with_replacement\n",
        "data = ['A', 'B', 'C']\n",
        "\n",
        "result = list(combinations_with_replacement(data, 2))\n",
        "print(result)"
      ],
      "metadata": {
        "colab": {
          "base_uri": "https://localhost:8080/"
        },
        "id": "ATZa-0YoMr8Q",
        "outputId": "215ec497-d120-4d2d-97cd-0d8bddf6a96f"
      },
      "execution_count": 6,
      "outputs": [
        {
          "output_type": "stream",
          "name": "stdout",
          "text": [
            "[('A', 'A'), ('A', 'B'), ('A', 'C'), ('B', 'B'), ('B', 'C'), ('C', 'C')]\n"
          ]
        }
      ]
    },
    {
      "cell_type": "code",
      "source": [
        "# counter\n",
        "\n",
        "from collections import Counter\n",
        "\n",
        "counter = Counter(['red', 'blue', 'red', 'green', 'blue', 'blue'])\n",
        "\n",
        "print(counter['blue'])\n",
        "print(counter['green'])\n",
        "print(dict(counter))"
      ],
      "metadata": {
        "colab": {
          "base_uri": "https://localhost:8080/"
        },
        "id": "Q1Jgo6kCNKRQ",
        "outputId": "914bd3d0-a778-47c9-ec5f-e91d46fdb70b"
      },
      "execution_count": 7,
      "outputs": [
        {
          "output_type": "stream",
          "name": "stdout",
          "text": [
            "3\n",
            "1\n",
            "{'red': 2, 'blue': 3, 'green': 1}\n"
          ]
        }
      ]
    },
    {
      "cell_type": "code",
      "source": [
        "# math.gcd()\n",
        "import math\n",
        "\n",
        "a = 21\n",
        "b = 14\n",
        "\n",
        "def lcm(a, b):\n",
        "  return a * b // math.gcd(a, b)\n",
        "\n",
        "print(math.gcd(a, b))\n",
        "print(lcm(a, b))"
      ],
      "metadata": {
        "colab": {
          "base_uri": "https://localhost:8080/"
        },
        "id": "wFH0kvzANnjJ",
        "outputId": "73520169-6f96-4faf-ca13-af975701bec0"
      },
      "execution_count": 10,
      "outputs": [
        {
          "output_type": "stream",
          "name": "stdout",
          "text": [
            "7\n",
            "42\n"
          ]
        }
      ]
    }
  ]
}